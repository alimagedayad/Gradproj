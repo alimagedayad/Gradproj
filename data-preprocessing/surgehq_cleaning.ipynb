{
 "cells": [
  {
   "cell_type": "code",
   "execution_count": 511,
   "metadata": {},
   "outputs": [],
   "source": [
    "from datetime import datetime\n",
    "import pandas as pd\n",
    "import numpy as np"
   ]
  },
  {
   "cell_type": "code",
   "execution_count": 2,
   "metadata": {},
   "outputs": [],
   "source": [
    "def clean_transaction_description(description):\n",
    "    cib_ref_number_regex = r\"^FT.{12}$\"\n",
    "    generic_ref_regex = r\"\\w*\\d\\w*[a-zA-Z]\\w*|\\w*[a-zA-Z]\\w*\\d\\w*\"\n",
    "    numbers_regex = r\"\\d+\"\n",
    "    single_letter_regex = r\"\\b\\w\\b\"\n",
    "    opening_balance = \"OPENING BALANCE\"\n",
    "    closing_balance = \"CLOSING BALANCE\"\n",
    "\n",
    "    text = description.replace(\"\\BNK\", \"\")\n",
    "    text = text.replace(opening_balance, \"\")\n",
    "    text = text.replace(closing_balance, \"\")\n",
    "    text = re.sub(cib_ref_number_regex, '', text)\n",
    "    text = re.sub(generic_ref_regex, '', text)\n",
    "    text = re.sub(numbers_regex, '', text)\n",
    "    text = re.sub(single_letter_regex, '', text)\n",
    "    text = text.replace(\"-\", \"\")\n",
    "    text = re.sub(\"\\s\\s+\" , \" \", text)\n",
    "    return text.strip()\n"
   ]
  },
  {
   "cell_type": "code",
   "execution_count": 3,
   "metadata": {},
   "outputs": [],
   "source": [
    "def filter_instapay_ach_data(description):\n",
    "    ipn_regex = r\"Payee Name:\"\n",
    "    cib_online_transfer = \"Online Transfer\"\n",
    "    ach_regax = r'\\bACH\\b'\n",
    "    credit_interest = r\"Credit Interest\"\n",
    "    funds_regex = r'Funds \\.\\.\\.'  \n",
    "    quaterly_interest = r\"Statement Quarterly fees\"\n",
    "    \n",
    "    if re.match(ipn_regex, description):\n",
    "        return True\n",
    "    \n",
    "    if re.match(cib_online_transfer, description):\n",
    "        return True\n",
    "    \n",
    "    if re.match(ach_regax, description):\n",
    "        return True\n",
    "    \n",
    "    if re.match(credit_interest, description):\n",
    "        return True\n",
    "\n",
    "    if re.match(funds_regex, description):\n",
    "        return True\n",
    "\n",
    "    if re.match(quaterly_interest, description):\n",
    "        return True\n",
    "    \n",
    "    return False "
   ]
  },
  {
   "cell_type": "code",
   "execution_count": 512,
   "metadata": {},
   "outputs": [],
   "source": [
    "def convert_written_date_to_number(date_str):\n",
    "    # Define mapping of month abbreviations to month numbers\n",
    "    month_map = {\n",
    "        'JAN': 1, 'FEB': 2, 'MAR': 3, 'APR': 4,\n",
    "        'MAY': 5, 'JUN': 6, 'JUL': 7, 'AUG': 8,\n",
    "        'SEP': 9, 'OCT': 10, 'NOV': 11, 'DEC': 12\n",
    "    }\n",
    "    \n",
    "    # Extract day, month abbreviation, and year from date string\n",
    "    day = int(date_str[:2])\n",
    "    month_abbr = date_str[2:5]\n",
    "    year = int('20' + date_str[5:])\n",
    "    \n",
    "    # Convert month abbreviation to month number\n",
    "    month_num = month_map[month_abbr]\n",
    "    \n",
    "    # Create a datetime object with the extracted values\n",
    "    date = datetime(year, month_num, day)\n",
    "    \n",
    "    return date.strftime('%d/%m/%Y')"
   ]
  },
  {
   "cell_type": "code",
   "execution_count": 513,
   "metadata": {},
   "outputs": [],
   "source": [
    "file_name = \"9\""
   ]
  },
  {
   "cell_type": "code",
   "execution_count": 514,
   "metadata": {},
   "outputs": [],
   "source": [
    "df = pd.read_csv(f\"../bank_statements/raw/{file_name}.csv\")"
   ]
  },
  {
   "cell_type": "code",
   "execution_count": 515,
   "metadata": {},
   "outputs": [
    {
     "data": {
      "text/html": [
       "<div>\n",
       "<style scoped>\n",
       "    .dataframe tbody tr th:only-of-type {\n",
       "        vertical-align: middle;\n",
       "    }\n",
       "\n",
       "    .dataframe tbody tr th {\n",
       "        vertical-align: top;\n",
       "    }\n",
       "\n",
       "    .dataframe thead th {\n",
       "        text-align: right;\n",
       "    }\n",
       "</style>\n",
       "<table border=\"1\" class=\"dataframe\">\n",
       "  <thead>\n",
       "    <tr style=\"text-align: right;\">\n",
       "      <th></th>\n",
       "      <th>Date</th>\n",
       "      <th>Txn Date</th>\n",
       "      <th>Narrative</th>\n",
       "      <th>Credit</th>\n",
       "      <th>Debit</th>\n",
       "    </tr>\n",
       "  </thead>\n",
       "  <tbody>\n",
       "    <tr>\n",
       "      <th>0</th>\n",
       "      <td>25-03</td>\n",
       "      <td>25-03</td>\n",
       "      <td>CASH BACK CAIRO</td>\n",
       "      <td>69.0</td>\n",
       "      <td>NaN</td>\n",
       "    </tr>\n",
       "    <tr>\n",
       "      <th>1</th>\n",
       "      <td>10-03</td>\n",
       "      <td>10-03</td>\n",
       "      <td>MCDONALDS MAADI 1 C03 CAIRO N. -07A</td>\n",
       "      <td>NaN</td>\n",
       "      <td>161.00</td>\n",
       "    </tr>\n",
       "    <tr>\n",
       "      <th>2</th>\n",
       "      <td>11-03</td>\n",
       "      <td>11-03</td>\n",
       "      <td>ADIDAS - One Kattameya FO CAIRO N. -07A</td>\n",
       "      <td>NaN</td>\n",
       "      <td>999.00</td>\n",
       "    </tr>\n",
       "    <tr>\n",
       "      <th>3</th>\n",
       "      <td>11-03</td>\n",
       "      <td>11-03</td>\n",
       "      <td>ELDAHAN CAIRO</td>\n",
       "      <td>NaN</td>\n",
       "      <td>566.47</td>\n",
       "    </tr>\n",
       "    <tr>\n",
       "      <th>4</th>\n",
       "      <td>12-03</td>\n",
       "      <td>12-03</td>\n",
       "      <td>ADIDAS - One Kattameya FO CAIRO N. -07A</td>\n",
       "      <td>999.0</td>\n",
       "      <td>NaN</td>\n",
       "    </tr>\n",
       "  </tbody>\n",
       "</table>\n",
       "</div>"
      ],
      "text/plain": [
       "    Date Txn Date                                Narrative  Credit   Debit\n",
       "0  25-03    25-03                          CASH BACK CAIRO    69.0     NaN\n",
       "1  10-03    10-03      MCDONALDS MAADI 1 C03 CAIRO N. -07A     NaN  161.00\n",
       "2  11-03    11-03  ADIDAS - One Kattameya FO CAIRO N. -07A     NaN  999.00\n",
       "3  11-03    11-03                            ELDAHAN CAIRO     NaN  566.47\n",
       "4  12-03    12-03  ADIDAS - One Kattameya FO CAIRO N. -07A   999.0     NaN"
      ]
     },
     "execution_count": 515,
     "metadata": {},
     "output_type": "execute_result"
    }
   ],
   "source": [
    "df.head()"
   ]
  },
  {
   "cell_type": "code",
   "execution_count": 516,
   "metadata": {},
   "outputs": [],
   "source": [
    "df[\"Debit\"] = df[\"Debit\"].replace(\",\", \"\", regex=True)\n",
    "df[\"Credit\"] = df[\"Credit\"].replace(\",\", \"\", regex=True)\n"
   ]
  },
  {
   "cell_type": "code",
   "execution_count": 517,
   "metadata": {},
   "outputs": [
    {
     "data": {
      "text/html": [
       "<div>\n",
       "<style scoped>\n",
       "    .dataframe tbody tr th:only-of-type {\n",
       "        vertical-align: middle;\n",
       "    }\n",
       "\n",
       "    .dataframe tbody tr th {\n",
       "        vertical-align: top;\n",
       "    }\n",
       "\n",
       "    .dataframe thead th {\n",
       "        text-align: right;\n",
       "    }\n",
       "</style>\n",
       "<table border=\"1\" class=\"dataframe\">\n",
       "  <thead>\n",
       "    <tr style=\"text-align: right;\">\n",
       "      <th></th>\n",
       "      <th>Date</th>\n",
       "      <th>Txn Date</th>\n",
       "      <th>Narrative</th>\n",
       "      <th>Credit</th>\n",
       "      <th>Debit</th>\n",
       "    </tr>\n",
       "  </thead>\n",
       "  <tbody>\n",
       "    <tr>\n",
       "      <th>0</th>\n",
       "      <td>25-03</td>\n",
       "      <td>25-03</td>\n",
       "      <td>CASH BACK CAIRO</td>\n",
       "      <td>69.0</td>\n",
       "      <td>NaN</td>\n",
       "    </tr>\n",
       "    <tr>\n",
       "      <th>1</th>\n",
       "      <td>10-03</td>\n",
       "      <td>10-03</td>\n",
       "      <td>MCDONALDS MAADI 1 C03 CAIRO N. -07A</td>\n",
       "      <td>NaN</td>\n",
       "      <td>161.00</td>\n",
       "    </tr>\n",
       "    <tr>\n",
       "      <th>2</th>\n",
       "      <td>11-03</td>\n",
       "      <td>11-03</td>\n",
       "      <td>ADIDAS - One Kattameya FO CAIRO N. -07A</td>\n",
       "      <td>NaN</td>\n",
       "      <td>999.00</td>\n",
       "    </tr>\n",
       "    <tr>\n",
       "      <th>3</th>\n",
       "      <td>11-03</td>\n",
       "      <td>11-03</td>\n",
       "      <td>ELDAHAN CAIRO</td>\n",
       "      <td>NaN</td>\n",
       "      <td>566.47</td>\n",
       "    </tr>\n",
       "    <tr>\n",
       "      <th>4</th>\n",
       "      <td>12-03</td>\n",
       "      <td>12-03</td>\n",
       "      <td>ADIDAS - One Kattameya FO CAIRO N. -07A</td>\n",
       "      <td>999.0</td>\n",
       "      <td>NaN</td>\n",
       "    </tr>\n",
       "  </tbody>\n",
       "</table>\n",
       "</div>"
      ],
      "text/plain": [
       "    Date Txn Date                                Narrative  Credit   Debit\n",
       "0  25-03    25-03                          CASH BACK CAIRO    69.0     NaN\n",
       "1  10-03    10-03      MCDONALDS MAADI 1 C03 CAIRO N. -07A     NaN  161.00\n",
       "2  11-03    11-03  ADIDAS - One Kattameya FO CAIRO N. -07A     NaN  999.00\n",
       "3  11-03    11-03                            ELDAHAN CAIRO     NaN  566.47\n",
       "4  12-03    12-03  ADIDAS - One Kattameya FO CAIRO N. -07A   999.0     NaN"
      ]
     },
     "execution_count": 517,
     "metadata": {},
     "output_type": "execute_result"
    }
   ],
   "source": [
    "df.head()"
   ]
  },
  {
   "cell_type": "code",
   "execution_count": 518,
   "metadata": {},
   "outputs": [],
   "source": [
    "df[\"Debit\"] = pd.to_numeric(df[\"Debit\"], errors=\"coerce\")\n",
    "df[\"Credit\"] = pd.to_numeric(df[\"Credit\"], errors=\"coerce\")"
   ]
  },
  {
   "cell_type": "code",
   "execution_count": 519,
   "metadata": {},
   "outputs": [],
   "source": [
    "df[\"Value\"] = df[\"Debit\"].apply(lambda x: (x*-1) if x is not np.nan else None)"
   ]
  },
  {
   "cell_type": "code",
   "execution_count": 520,
   "metadata": {},
   "outputs": [],
   "source": [
    "non_values = df.loc[df[\"Value\"].isnull()]"
   ]
  },
  {
   "cell_type": "code",
   "execution_count": 521,
   "metadata": {},
   "outputs": [
    {
     "name": "stderr",
     "output_type": "stream",
     "text": [
      "/var/folders/n8/fx58pk156kzbywrs2435cgw80000gn/T/ipykernel_2356/2981624320.py:1: SettingWithCopyWarning: \n",
      "A value is trying to be set on a copy of a slice from a DataFrame.\n",
      "Try using .loc[row_indexer,col_indexer] = value instead\n",
      "\n",
      "See the caveats in the documentation: https://pandas.pydata.org/pandas-docs/stable/user_guide/indexing.html#returning-a-view-versus-a-copy\n",
      "  non_values[\"Value\"] = non_values[\"Credit\"].apply(lambda x: (x) if x is not np.nan else None)\n"
     ]
    }
   ],
   "source": [
    "non_values[\"Value\"] = non_values[\"Credit\"].apply(lambda x: (x) if x is not np.nan else None)"
   ]
  },
  {
   "cell_type": "code",
   "execution_count": 522,
   "metadata": {},
   "outputs": [],
   "source": [
    "df.loc[non_values.index] = non_values"
   ]
  },
  {
   "cell_type": "code",
   "execution_count": 523,
   "metadata": {},
   "outputs": [],
   "source": [
    "df.drop([\"Debit\", \"Credit\"], axis=1, inplace=True)"
   ]
  },
  {
   "cell_type": "code",
   "execution_count": 524,
   "metadata": {},
   "outputs": [
    {
     "data": {
      "text/html": [
       "<div>\n",
       "<style scoped>\n",
       "    .dataframe tbody tr th:only-of-type {\n",
       "        vertical-align: middle;\n",
       "    }\n",
       "\n",
       "    .dataframe tbody tr th {\n",
       "        vertical-align: top;\n",
       "    }\n",
       "\n",
       "    .dataframe thead th {\n",
       "        text-align: right;\n",
       "    }\n",
       "</style>\n",
       "<table border=\"1\" class=\"dataframe\">\n",
       "  <thead>\n",
       "    <tr style=\"text-align: right;\">\n",
       "      <th></th>\n",
       "      <th>Date</th>\n",
       "      <th>Txn Date</th>\n",
       "      <th>Narrative</th>\n",
       "      <th>Value</th>\n",
       "    </tr>\n",
       "  </thead>\n",
       "  <tbody>\n",
       "    <tr>\n",
       "      <th>0</th>\n",
       "      <td>25-03</td>\n",
       "      <td>25-03</td>\n",
       "      <td>CASH BACK CAIRO</td>\n",
       "      <td>69.00</td>\n",
       "    </tr>\n",
       "    <tr>\n",
       "      <th>1</th>\n",
       "      <td>10-03</td>\n",
       "      <td>10-03</td>\n",
       "      <td>MCDONALDS MAADI 1 C03 CAIRO N. -07A</td>\n",
       "      <td>-161.00</td>\n",
       "    </tr>\n",
       "    <tr>\n",
       "      <th>2</th>\n",
       "      <td>11-03</td>\n",
       "      <td>11-03</td>\n",
       "      <td>ADIDAS - One Kattameya FO CAIRO N. -07A</td>\n",
       "      <td>-999.00</td>\n",
       "    </tr>\n",
       "    <tr>\n",
       "      <th>3</th>\n",
       "      <td>11-03</td>\n",
       "      <td>11-03</td>\n",
       "      <td>ELDAHAN CAIRO</td>\n",
       "      <td>-566.47</td>\n",
       "    </tr>\n",
       "    <tr>\n",
       "      <th>4</th>\n",
       "      <td>12-03</td>\n",
       "      <td>12-03</td>\n",
       "      <td>ADIDAS - One Kattameya FO CAIRO N. -07A</td>\n",
       "      <td>999.00</td>\n",
       "    </tr>\n",
       "  </tbody>\n",
       "</table>\n",
       "</div>"
      ],
      "text/plain": [
       "    Date Txn Date                                Narrative   Value\n",
       "0  25-03    25-03                          CASH BACK CAIRO   69.00\n",
       "1  10-03    10-03      MCDONALDS MAADI 1 C03 CAIRO N. -07A -161.00\n",
       "2  11-03    11-03  ADIDAS - One Kattameya FO CAIRO N. -07A -999.00\n",
       "3  11-03    11-03                            ELDAHAN CAIRO -566.47\n",
       "4  12-03    12-03  ADIDAS - One Kattameya FO CAIRO N. -07A  999.00"
      ]
     },
     "execution_count": 524,
     "metadata": {},
     "output_type": "execute_result"
    }
   ],
   "source": [
    "df.head()"
   ]
  },
  {
   "cell_type": "code",
   "execution_count": 525,
   "metadata": {},
   "outputs": [],
   "source": [
    "df[\"Clean_Narrative\"] = df[\"Narrative\"].apply(clean_transaction_description)"
   ]
  },
  {
   "cell_type": "code",
   "execution_count": 526,
   "metadata": {},
   "outputs": [
    {
     "data": {
      "text/html": [
       "<div>\n",
       "<style scoped>\n",
       "    .dataframe tbody tr th:only-of-type {\n",
       "        vertical-align: middle;\n",
       "    }\n",
       "\n",
       "    .dataframe tbody tr th {\n",
       "        vertical-align: top;\n",
       "    }\n",
       "\n",
       "    .dataframe thead th {\n",
       "        text-align: right;\n",
       "    }\n",
       "</style>\n",
       "<table border=\"1\" class=\"dataframe\">\n",
       "  <thead>\n",
       "    <tr style=\"text-align: right;\">\n",
       "      <th></th>\n",
       "      <th>Date</th>\n",
       "      <th>Txn Date</th>\n",
       "      <th>Narrative</th>\n",
       "      <th>Value</th>\n",
       "      <th>Clean_Narrative</th>\n",
       "    </tr>\n",
       "  </thead>\n",
       "  <tbody>\n",
       "    <tr>\n",
       "      <th>0</th>\n",
       "      <td>25-03</td>\n",
       "      <td>25-03</td>\n",
       "      <td>CASH BACK CAIRO</td>\n",
       "      <td>69.00</td>\n",
       "      <td>CASH BACK CAIRO</td>\n",
       "    </tr>\n",
       "    <tr>\n",
       "      <th>1</th>\n",
       "      <td>10-03</td>\n",
       "      <td>10-03</td>\n",
       "      <td>MCDONALDS MAADI 1 C03 CAIRO N. -07A</td>\n",
       "      <td>-161.00</td>\n",
       "      <td>MCDONALDS MAADI CAIRO .</td>\n",
       "    </tr>\n",
       "    <tr>\n",
       "      <th>2</th>\n",
       "      <td>11-03</td>\n",
       "      <td>11-03</td>\n",
       "      <td>ADIDAS - One Kattameya FO CAIRO N. -07A</td>\n",
       "      <td>-999.00</td>\n",
       "      <td>ADIDAS One Kattameya FO CAIRO .</td>\n",
       "    </tr>\n",
       "    <tr>\n",
       "      <th>3</th>\n",
       "      <td>11-03</td>\n",
       "      <td>11-03</td>\n",
       "      <td>ELDAHAN CAIRO</td>\n",
       "      <td>-566.47</td>\n",
       "      <td>ELDAHAN CAIRO</td>\n",
       "    </tr>\n",
       "    <tr>\n",
       "      <th>4</th>\n",
       "      <td>12-03</td>\n",
       "      <td>12-03</td>\n",
       "      <td>ADIDAS - One Kattameya FO CAIRO N. -07A</td>\n",
       "      <td>999.00</td>\n",
       "      <td>ADIDAS One Kattameya FO CAIRO .</td>\n",
       "    </tr>\n",
       "  </tbody>\n",
       "</table>\n",
       "</div>"
      ],
      "text/plain": [
       "    Date Txn Date                                Narrative   Value  \\\n",
       "0  25-03    25-03                          CASH BACK CAIRO   69.00   \n",
       "1  10-03    10-03      MCDONALDS MAADI 1 C03 CAIRO N. -07A -161.00   \n",
       "2  11-03    11-03  ADIDAS - One Kattameya FO CAIRO N. -07A -999.00   \n",
       "3  11-03    11-03                            ELDAHAN CAIRO -566.47   \n",
       "4  12-03    12-03  ADIDAS - One Kattameya FO CAIRO N. -07A  999.00   \n",
       "\n",
       "                   Clean_Narrative  \n",
       "0                  CASH BACK CAIRO  \n",
       "1          MCDONALDS MAADI CAIRO .  \n",
       "2  ADIDAS One Kattameya FO CAIRO .  \n",
       "3                    ELDAHAN CAIRO  \n",
       "4  ADIDAS One Kattameya FO CAIRO .  "
      ]
     },
     "execution_count": 526,
     "metadata": {},
     "output_type": "execute_result"
    }
   ],
   "source": [
    "df.head()"
   ]
  },
  {
   "cell_type": "code",
   "execution_count": 527,
   "metadata": {},
   "outputs": [],
   "source": [
    "df[\"Clean_Narrative\"] = df[\"Clean_Narrative\"].apply(lambda x: np.nan if x == \"\" else x)"
   ]
  },
  {
   "cell_type": "code",
   "execution_count": 528,
   "metadata": {},
   "outputs": [],
   "source": [
    "df.dropna(inplace=True, subset=[\"Clean_Narrative\"])"
   ]
  },
  {
   "cell_type": "code",
   "execution_count": 529,
   "metadata": {},
   "outputs": [
    {
     "ename": "KeyError",
     "evalue": "'-03'",
     "output_type": "error",
     "traceback": [
      "\u001b[0;31m---------------------------------------------------------------------------\u001b[0m",
      "\u001b[0;31mKeyError\u001b[0m                                  Traceback (most recent call last)",
      "Cell \u001b[0;32mIn[529], line 1\u001b[0m\n\u001b[0;32m----> 1\u001b[0m df[\u001b[39m\"\u001b[39m\u001b[39mDate\u001b[39m\u001b[39m\"\u001b[39m] \u001b[39m=\u001b[39m df[\u001b[39m\"\u001b[39;49m\u001b[39mDate\u001b[39;49m\u001b[39m\"\u001b[39;49m]\u001b[39m.\u001b[39;49mapply(convert_written_date_to_number)\n\u001b[1;32m      2\u001b[0m df[\u001b[39m\"\u001b[39m\u001b[39mTxn Date\u001b[39m\u001b[39m\"\u001b[39m] \u001b[39m=\u001b[39m df[\u001b[39m\"\u001b[39m\u001b[39mTxn Date\u001b[39m\u001b[39m\"\u001b[39m]\u001b[39m.\u001b[39mapply(convert_written_date_to_number)\n",
      "File \u001b[0;32m~/.local/share/virtualenvs/data-preprocessing-3UR649jN/lib/python3.10/site-packages/pandas/core/series.py:4771\u001b[0m, in \u001b[0;36mSeries.apply\u001b[0;34m(self, func, convert_dtype, args, **kwargs)\u001b[0m\n\u001b[1;32m   4661\u001b[0m \u001b[39mdef\u001b[39;00m \u001b[39mapply\u001b[39m(\n\u001b[1;32m   4662\u001b[0m     \u001b[39mself\u001b[39m,\n\u001b[1;32m   4663\u001b[0m     func: AggFuncType,\n\u001b[0;32m   (...)\u001b[0m\n\u001b[1;32m   4666\u001b[0m     \u001b[39m*\u001b[39m\u001b[39m*\u001b[39mkwargs,\n\u001b[1;32m   4667\u001b[0m ) \u001b[39m-\u001b[39m\u001b[39m>\u001b[39m DataFrame \u001b[39m|\u001b[39m Series:\n\u001b[1;32m   4668\u001b[0m \u001b[39m    \u001b[39m\u001b[39m\"\"\"\u001b[39;00m\n\u001b[1;32m   4669\u001b[0m \u001b[39m    Invoke function on values of Series.\u001b[39;00m\n\u001b[1;32m   4670\u001b[0m \n\u001b[0;32m   (...)\u001b[0m\n\u001b[1;32m   4769\u001b[0m \u001b[39m    dtype: float64\u001b[39;00m\n\u001b[1;32m   4770\u001b[0m \u001b[39m    \"\"\"\u001b[39;00m\n\u001b[0;32m-> 4771\u001b[0m     \u001b[39mreturn\u001b[39;00m SeriesApply(\u001b[39mself\u001b[39;49m, func, convert_dtype, args, kwargs)\u001b[39m.\u001b[39;49mapply()\n",
      "File \u001b[0;32m~/.local/share/virtualenvs/data-preprocessing-3UR649jN/lib/python3.10/site-packages/pandas/core/apply.py:1123\u001b[0m, in \u001b[0;36mSeriesApply.apply\u001b[0;34m(self)\u001b[0m\n\u001b[1;32m   1120\u001b[0m     \u001b[39mreturn\u001b[39;00m \u001b[39mself\u001b[39m\u001b[39m.\u001b[39mapply_str()\n\u001b[1;32m   1122\u001b[0m \u001b[39m# self.f is Callable\u001b[39;00m\n\u001b[0;32m-> 1123\u001b[0m \u001b[39mreturn\u001b[39;00m \u001b[39mself\u001b[39;49m\u001b[39m.\u001b[39;49mapply_standard()\n",
      "File \u001b[0;32m~/.local/share/virtualenvs/data-preprocessing-3UR649jN/lib/python3.10/site-packages/pandas/core/apply.py:1174\u001b[0m, in \u001b[0;36mSeriesApply.apply_standard\u001b[0;34m(self)\u001b[0m\n\u001b[1;32m   1172\u001b[0m     \u001b[39melse\u001b[39;00m:\n\u001b[1;32m   1173\u001b[0m         values \u001b[39m=\u001b[39m obj\u001b[39m.\u001b[39mastype(\u001b[39mobject\u001b[39m)\u001b[39m.\u001b[39m_values\n\u001b[0;32m-> 1174\u001b[0m         mapped \u001b[39m=\u001b[39m lib\u001b[39m.\u001b[39;49mmap_infer(\n\u001b[1;32m   1175\u001b[0m             values,\n\u001b[1;32m   1176\u001b[0m             f,\n\u001b[1;32m   1177\u001b[0m             convert\u001b[39m=\u001b[39;49m\u001b[39mself\u001b[39;49m\u001b[39m.\u001b[39;49mconvert_dtype,\n\u001b[1;32m   1178\u001b[0m         )\n\u001b[1;32m   1180\u001b[0m \u001b[39mif\u001b[39;00m \u001b[39mlen\u001b[39m(mapped) \u001b[39mand\u001b[39;00m \u001b[39misinstance\u001b[39m(mapped[\u001b[39m0\u001b[39m], ABCSeries):\n\u001b[1;32m   1181\u001b[0m     \u001b[39m# GH#43986 Need to do list(mapped) in order to get treated as nested\u001b[39;00m\n\u001b[1;32m   1182\u001b[0m     \u001b[39m#  See also GH#25959 regarding EA support\u001b[39;00m\n\u001b[1;32m   1183\u001b[0m     \u001b[39mreturn\u001b[39;00m obj\u001b[39m.\u001b[39m_constructor_expanddim(\u001b[39mlist\u001b[39m(mapped), index\u001b[39m=\u001b[39mobj\u001b[39m.\u001b[39mindex)\n",
      "File \u001b[0;32m~/.local/share/virtualenvs/data-preprocessing-3UR649jN/lib/python3.10/site-packages/pandas/_libs/lib.pyx:2924\u001b[0m, in \u001b[0;36mpandas._libs.lib.map_infer\u001b[0;34m()\u001b[0m\n",
      "Cell \u001b[0;32mIn[512], line 15\u001b[0m, in \u001b[0;36mconvert_written_date_to_number\u001b[0;34m(date_str)\u001b[0m\n\u001b[1;32m     12\u001b[0m year \u001b[39m=\u001b[39m \u001b[39mint\u001b[39m(\u001b[39m'\u001b[39m\u001b[39m20\u001b[39m\u001b[39m'\u001b[39m \u001b[39m+\u001b[39m date_str[\u001b[39m5\u001b[39m:])\n\u001b[1;32m     14\u001b[0m \u001b[39m# Convert month abbreviation to month number\u001b[39;00m\n\u001b[0;32m---> 15\u001b[0m month_num \u001b[39m=\u001b[39m month_map[month_abbr]\n\u001b[1;32m     17\u001b[0m \u001b[39m# Create a datetime object with the extracted values\u001b[39;00m\n\u001b[1;32m     18\u001b[0m date \u001b[39m=\u001b[39m datetime(year, month_num, day)\n",
      "\u001b[0;31mKeyError\u001b[0m: '-03'"
     ]
    }
   ],
   "source": [
    "df[\"Date\"] = df[\"Date\"].apply(convert_written_date_to_number)\n",
    "df[\"Txn Date\"] = df[\"Txn Date\"].apply(convert_written_date_to_number)"
   ]
  },
  {
   "cell_type": "code",
   "execution_count": null,
   "metadata": {},
   "outputs": [],
   "source": [
    "df.to_csv(f\"../bank_statements/pre_processed/{file_name}.csv\", index=False)"
   ]
  }
 ],
 "metadata": {
  "kernelspec": {
   "display_name": "Python 3",
   "language": "python",
   "name": "python3"
  },
  "language_info": {
   "codemirror_mode": {
    "name": "ipython",
    "version": 3
   },
   "file_extension": ".py",
   "mimetype": "text/x-python",
   "name": "python",
   "nbconvert_exporter": "python",
   "pygments_lexer": "ipython3",
   "version": "3.10.0"
  }
 },
 "nbformat": 4,
 "nbformat_minor": 0
}
